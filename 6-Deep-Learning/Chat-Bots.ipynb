{
 "cells": [
  {
   "cell_type": "markdown",
   "metadata": {},
   "source": [
    "\n",
    "# Question and Answer Chat Bots"
   ]
  },
  {
   "cell_type": "markdown",
   "metadata": {},
   "source": [
    "## Loading the Data\n",
    "\n",
    "We will be working with the Babi Data Set from Facebook Research.\n",
    "\n",
    "Full Details: https://research.fb.com/downloads/babi/\n",
    "\n"
   ]
  },
  {
   "cell_type": "code",
   "execution_count": 1,
   "metadata": {},
   "outputs": [],
   "source": [
    "import pickle\n",
    "import numpy as np"
   ]
  },
  {
   "cell_type": "code",
   "execution_count": 2,
   "metadata": {},
   "outputs": [],
   "source": [
    "with open(\"train_qa.txt\", \"rb\") as fp:   # Unpickling\n",
    "    train_data =  pickle.load(fp)"
   ]
  },
  {
   "cell_type": "code",
   "execution_count": 3,
   "metadata": {},
   "outputs": [],
   "source": [
    "with open(\"test_qa.txt\", \"rb\") as fp:   # Unpickling\n",
    "    test_data =  pickle.load(fp)"
   ]
  },
  {
   "cell_type": "markdown",
   "metadata": {},
   "source": [
    "## Exploring the Format of the Data"
   ]
  },
  {
   "cell_type": "code",
   "execution_count": 4,
   "metadata": {},
   "outputs": [
    {
     "data": {
      "text/plain": [
       "list"
      ]
     },
     "execution_count": 4,
     "metadata": {},
     "output_type": "execute_result"
    }
   ],
   "source": [
    "type(test_data)"
   ]
  },
  {
   "cell_type": "code",
   "execution_count": 5,
   "metadata": {},
   "outputs": [
    {
     "data": {
      "text/plain": [
       "list"
      ]
     },
     "execution_count": 5,
     "metadata": {},
     "output_type": "execute_result"
    }
   ],
   "source": [
    "type(train_data)"
   ]
  },
  {
   "cell_type": "code",
   "execution_count": 6,
   "metadata": {},
   "outputs": [
    {
     "data": {
      "text/plain": [
       "1000"
      ]
     },
     "execution_count": 6,
     "metadata": {},
     "output_type": "execute_result"
    }
   ],
   "source": [
    "len(test_data)"
   ]
  },
  {
   "cell_type": "code",
   "execution_count": 7,
   "metadata": {},
   "outputs": [
    {
     "data": {
      "text/plain": [
       "10000"
      ]
     },
     "execution_count": 7,
     "metadata": {},
     "output_type": "execute_result"
    }
   ],
   "source": [
    "len(train_data)"
   ]
  },
  {
   "cell_type": "code",
   "execution_count": 8,
   "metadata": {},
   "outputs": [
    {
     "data": {
      "text/plain": [
       "(['Mary',\n",
       "  'moved',\n",
       "  'to',\n",
       "  'the',\n",
       "  'bathroom',\n",
       "  '.',\n",
       "  'Sandra',\n",
       "  'journeyed',\n",
       "  'to',\n",
       "  'the',\n",
       "  'bedroom',\n",
       "  '.'],\n",
       " ['Is', 'Sandra', 'in', 'the', 'hallway', '?'],\n",
       " 'no')"
      ]
     },
     "execution_count": 8,
     "metadata": {},
     "output_type": "execute_result"
    }
   ],
   "source": [
    "train_data[0]"
   ]
  },
  {
   "cell_type": "code",
   "execution_count": 9,
   "metadata": {},
   "outputs": [
    {
     "data": {
      "text/plain": [
       "'Mary moved to the bathroom . Sandra journeyed to the bedroom .'"
      ]
     },
     "execution_count": 9,
     "metadata": {},
     "output_type": "execute_result"
    }
   ],
   "source": [
    "' '.join(train_data[0][0])"
   ]
  },
  {
   "cell_type": "code",
   "execution_count": 10,
   "metadata": {},
   "outputs": [
    {
     "data": {
      "text/plain": [
       "'Is Sandra in the hallway ?'"
      ]
     },
     "execution_count": 10,
     "metadata": {},
     "output_type": "execute_result"
    }
   ],
   "source": [
    "' '.join(train_data[0][1])"
   ]
  },
  {
   "cell_type": "code",
   "execution_count": 11,
   "metadata": {},
   "outputs": [
    {
     "data": {
      "text/plain": [
       "'no'"
      ]
     },
     "execution_count": 11,
     "metadata": {},
     "output_type": "execute_result"
    }
   ],
   "source": [
    "train_data[0][2]"
   ]
  },
  {
   "cell_type": "markdown",
   "metadata": {},
   "source": [
    "-----\n",
    "\n",
    "## Setting up Vocabulary of All Words"
   ]
  },
  {
   "cell_type": "code",
   "execution_count": 12,
   "metadata": {},
   "outputs": [],
   "source": [
    "# Create a set that holds the vocab words\n",
    "vocab = set()"
   ]
  },
  {
   "cell_type": "code",
   "execution_count": 13,
   "metadata": {},
   "outputs": [],
   "source": [
    "all_data = test_data + train_data"
   ]
  },
  {
   "cell_type": "code",
   "execution_count": 14,
   "metadata": {},
   "outputs": [],
   "source": [
    "for story, question , answer in all_data:\n",
    "    # In case you don't know what a union of sets is:\n",
    "    # https://www.programiz.com/python-programming/methods/set/union\n",
    "    vocab = vocab.union(set(story))\n",
    "    vocab = vocab.union(set(question))"
   ]
  },
  {
   "cell_type": "code",
   "execution_count": 15,
   "metadata": {},
   "outputs": [],
   "source": [
    "vocab.add('no')\n",
    "vocab.add('yes')"
   ]
  },
  {
   "cell_type": "code",
   "execution_count": 16,
   "metadata": {},
   "outputs": [
    {
     "data": {
      "text/plain": [
       "{'.',\n",
       " '?',\n",
       " 'Daniel',\n",
       " 'Is',\n",
       " 'John',\n",
       " 'Mary',\n",
       " 'Sandra',\n",
       " 'apple',\n",
       " 'back',\n",
       " 'bathroom',\n",
       " 'bedroom',\n",
       " 'discarded',\n",
       " 'down',\n",
       " 'dropped',\n",
       " 'football',\n",
       " 'garden',\n",
       " 'got',\n",
       " 'grabbed',\n",
       " 'hallway',\n",
       " 'in',\n",
       " 'journeyed',\n",
       " 'kitchen',\n",
       " 'left',\n",
       " 'milk',\n",
       " 'moved',\n",
       " 'no',\n",
       " 'office',\n",
       " 'picked',\n",
       " 'put',\n",
       " 'the',\n",
       " 'there',\n",
       " 'to',\n",
       " 'took',\n",
       " 'travelled',\n",
       " 'up',\n",
       " 'went',\n",
       " 'yes'}"
      ]
     },
     "execution_count": 16,
     "metadata": {},
     "output_type": "execute_result"
    }
   ],
   "source": [
    "vocab"
   ]
  },
  {
   "cell_type": "code",
   "execution_count": 17,
   "metadata": {},
   "outputs": [],
   "source": [
    "vocab_len = len(vocab) + 1 #we add an extra space to hold a 0 for Keras's pad_sequences"
   ]
  },
  {
   "cell_type": "code",
   "execution_count": 18,
   "metadata": {},
   "outputs": [],
   "source": [
    "max_story_len = max([len(data[0]) for data in all_data])"
   ]
  },
  {
   "cell_type": "code",
   "execution_count": 19,
   "metadata": {},
   "outputs": [
    {
     "data": {
      "text/plain": [
       "156"
      ]
     },
     "execution_count": 19,
     "metadata": {},
     "output_type": "execute_result"
    }
   ],
   "source": [
    "max_story_len"
   ]
  },
  {
   "cell_type": "code",
   "execution_count": 20,
   "metadata": {},
   "outputs": [],
   "source": [
    "max_question_len = max([len(data[1]) for data in all_data])"
   ]
  },
  {
   "cell_type": "code",
   "execution_count": 21,
   "metadata": {},
   "outputs": [
    {
     "data": {
      "text/plain": [
       "6"
      ]
     },
     "execution_count": 21,
     "metadata": {},
     "output_type": "execute_result"
    }
   ],
   "source": [
    "max_question_len"
   ]
  },
  {
   "cell_type": "markdown",
   "metadata": {},
   "source": [
    "## Vectorizing the Data"
   ]
  },
  {
   "cell_type": "code",
   "execution_count": 22,
   "metadata": {},
   "outputs": [
    {
     "data": {
      "text/plain": [
       "{'.',\n",
       " '?',\n",
       " 'Daniel',\n",
       " 'Is',\n",
       " 'John',\n",
       " 'Mary',\n",
       " 'Sandra',\n",
       " 'apple',\n",
       " 'back',\n",
       " 'bathroom',\n",
       " 'bedroom',\n",
       " 'discarded',\n",
       " 'down',\n",
       " 'dropped',\n",
       " 'football',\n",
       " 'garden',\n",
       " 'got',\n",
       " 'grabbed',\n",
       " 'hallway',\n",
       " 'in',\n",
       " 'journeyed',\n",
       " 'kitchen',\n",
       " 'left',\n",
       " 'milk',\n",
       " 'moved',\n",
       " 'no',\n",
       " 'office',\n",
       " 'picked',\n",
       " 'put',\n",
       " 'the',\n",
       " 'there',\n",
       " 'to',\n",
       " 'took',\n",
       " 'travelled',\n",
       " 'up',\n",
       " 'went',\n",
       " 'yes'}"
      ]
     },
     "execution_count": 22,
     "metadata": {},
     "output_type": "execute_result"
    }
   ],
   "source": [
    "vocab"
   ]
  },
  {
   "cell_type": "code",
   "execution_count": 23,
   "metadata": {},
   "outputs": [],
   "source": [
    "# Reserve 0 for pad_sequences\n",
    "vocab_size = len(vocab) + 1"
   ]
  },
  {
   "cell_type": "markdown",
   "metadata": {},
   "source": [
    "-----------"
   ]
  },
  {
   "cell_type": "code",
   "execution_count": 24,
   "metadata": {},
   "outputs": [
    {
     "name": "stderr",
     "output_type": "stream",
     "text": [
      "C:\\Users\\Hai\\Anaconda\\lib\\site-packages\\h5py\\__init__.py:36: FutureWarning: Conversion of the second argument of issubdtype from `float` to `np.floating` is deprecated. In future, it will be treated as `np.float64 == np.dtype(float).type`.\n",
      "  from ._conv import register_converters as _register_converters\n",
      "Using TensorFlow backend.\n"
     ]
    }
   ],
   "source": [
    "from keras.preprocessing.sequence import pad_sequences\n",
    "from keras.preprocessing.text import Tokenizer"
   ]
  },
  {
   "cell_type": "code",
   "execution_count": 25,
   "metadata": {},
   "outputs": [],
   "source": [
    "# integer encode sequences of words\n",
    "tokenizer = Tokenizer(filters=[])\n",
    "tokenizer.fit_on_texts(vocab)"
   ]
  },
  {
   "cell_type": "code",
   "execution_count": 26,
   "metadata": {},
   "outputs": [
    {
     "data": {
      "text/plain": [
       "{'.': 34,\n",
       " '?': 19,\n",
       " 'apple': 32,\n",
       " 'back': 5,\n",
       " 'bathroom': 6,\n",
       " 'bedroom': 35,\n",
       " 'daniel': 37,\n",
       " 'discarded': 31,\n",
       " 'down': 13,\n",
       " 'dropped': 15,\n",
       " 'football': 29,\n",
       " 'garden': 33,\n",
       " 'got': 16,\n",
       " 'grabbed': 8,\n",
       " 'hallway': 10,\n",
       " 'in': 4,\n",
       " 'is': 17,\n",
       " 'john': 27,\n",
       " 'journeyed': 30,\n",
       " 'kitchen': 12,\n",
       " 'left': 14,\n",
       " 'mary': 1,\n",
       " 'milk': 7,\n",
       " 'moved': 36,\n",
       " 'no': 25,\n",
       " 'office': 2,\n",
       " 'picked': 26,\n",
       " 'put': 11,\n",
       " 'sandra': 9,\n",
       " 'the': 28,\n",
       " 'there': 21,\n",
       " 'to': 3,\n",
       " 'took': 20,\n",
       " 'travelled': 23,\n",
       " 'up': 18,\n",
       " 'went': 22,\n",
       " 'yes': 24}"
      ]
     },
     "execution_count": 26,
     "metadata": {},
     "output_type": "execute_result"
    }
   ],
   "source": [
    "tokenizer.word_index"
   ]
  },
  {
   "cell_type": "code",
   "execution_count": 27,
   "metadata": {},
   "outputs": [],
   "source": [
    "train_story_text = []\n",
    "train_question_text = []\n",
    "train_answers = []\n",
    "\n",
    "for story,question,answer in train_data:\n",
    "    train_story_text.append(story)\n",
    "    train_question_text.append(question)"
   ]
  },
  {
   "cell_type": "code",
   "execution_count": 28,
   "metadata": {},
   "outputs": [],
   "source": [
    "train_story_seq = tokenizer.texts_to_sequences(train_story_text)"
   ]
  },
  {
   "cell_type": "code",
   "execution_count": 29,
   "metadata": {},
   "outputs": [
    {
     "data": {
      "text/plain": [
       "10000"
      ]
     },
     "execution_count": 29,
     "metadata": {},
     "output_type": "execute_result"
    }
   ],
   "source": [
    "len(train_story_text)"
   ]
  },
  {
   "cell_type": "code",
   "execution_count": 30,
   "metadata": {},
   "outputs": [
    {
     "data": {
      "text/plain": [
       "10000"
      ]
     },
     "execution_count": 30,
     "metadata": {},
     "output_type": "execute_result"
    }
   ],
   "source": [
    "len(train_story_seq)"
   ]
  },
  {
   "cell_type": "code",
   "execution_count": 32,
   "metadata": {},
   "outputs": [
    {
     "data": {
      "text/plain": [
       "{'.': 34,\n",
       " '?': 19,\n",
       " 'apple': 32,\n",
       " 'back': 5,\n",
       " 'bathroom': 6,\n",
       " 'bedroom': 35,\n",
       " 'daniel': 37,\n",
       " 'discarded': 31,\n",
       " 'down': 13,\n",
       " 'dropped': 15,\n",
       " 'football': 29,\n",
       " 'garden': 33,\n",
       " 'got': 16,\n",
       " 'grabbed': 8,\n",
       " 'hallway': 10,\n",
       " 'in': 4,\n",
       " 'is': 17,\n",
       " 'john': 27,\n",
       " 'journeyed': 30,\n",
       " 'kitchen': 12,\n",
       " 'left': 14,\n",
       " 'mary': 1,\n",
       " 'milk': 7,\n",
       " 'moved': 36,\n",
       " 'no': 25,\n",
       " 'office': 2,\n",
       " 'picked': 26,\n",
       " 'put': 11,\n",
       " 'sandra': 9,\n",
       " 'the': 28,\n",
       " 'there': 21,\n",
       " 'to': 3,\n",
       " 'took': 20,\n",
       " 'travelled': 23,\n",
       " 'up': 18,\n",
       " 'went': 22,\n",
       " 'yes': 24}"
      ]
     },
     "execution_count": 32,
     "metadata": {},
     "output_type": "execute_result"
    }
   ],
   "source": [
    " word_index = tokenizer.word_index\n",
    " word_index"
   ]
  },
  {
   "cell_type": "markdown",
   "metadata": {},
   "source": [
    "### Functionalize Vectorization"
   ]
  },
  {
   "cell_type": "code",
   "execution_count": 33,
   "metadata": {},
   "outputs": [],
   "source": [
    "def vectorize_stories(data, word_index=tokenizer.word_index, max_story_len=max_story_len,max_question_len=max_question_len):\n",
    "    '''\n",
    "    INPUT: \n",
    "    \n",
    "    data: consisting of Stories,Queries,and Answers\n",
    "    word_index: word index dictionary from tokenizer\n",
    "    max_story_len: the length of the longest story (used for pad_sequences function)\n",
    "    max_question_len: length of the longest question (used for pad_sequences function)\n",
    "\n",
    "\n",
    "    OUTPUT:\n",
    "    \n",
    "    Vectorizes the stories,questions, and answers into padded sequences. We first loop for every story, query , and\n",
    "    answer in the data. Then we convert the raw words to an word index value. Then we append each set to their appropriate\n",
    "    output list. Then once we have converted the words to numbers, we pad the sequences so they are all of equal length.\n",
    "    \n",
    "    Returns this in the form of a tuple (X,Xq,Y) (padded based on max lengths)\n",
    "    '''\n",
    "    \n",
    "    \n",
    "    # X = STORIES\n",
    "    X = []\n",
    "    # Xq = QUERY/QUESTION\n",
    "    Xq = []\n",
    "    # Y = CORRECT ANSWER\n",
    "    Y = []\n",
    "    \n",
    "    \n",
    "    for story, query, answer in data:\n",
    "        \n",
    "        # Grab the word index for every word in story\n",
    "        x = [word_index[word.lower()] for word in story]\n",
    "        # Grab the word index for every word in query\n",
    "        xq = [word_index[word.lower()] for word in query]\n",
    "        \n",
    "        # Grab the Answers (either Yes/No so we don't need to use list comprehension here)\n",
    "        # Index 0 is reserved so we're going to use + 1\n",
    "        y = np.zeros(len(word_index) + 1)\n",
    "        \n",
    "        # Now that y is all zeros and we know its just Yes/No , we can use numpy logic to create this assignment\n",
    "        #\n",
    "        y[word_index[answer]] = 1\n",
    "        \n",
    "        # Append each set of story,query, and answer to their respective holding lists\n",
    "        X.append(x)\n",
    "        Xq.append(xq)\n",
    "        Y.append(y)\n",
    "        \n",
    "    # Finally, pad the sequences based on their max length so the RNN can be trained on uniformly long sequences.\n",
    "        \n",
    "    # RETURN TUPLE FOR UNPACKING\n",
    "    return (pad_sequences(X, maxlen=max_story_len),pad_sequences(Xq, maxlen=max_question_len), np.array(Y))"
   ]
  },
  {
   "cell_type": "code",
   "execution_count": 34,
   "metadata": {},
   "outputs": [],
   "source": [
    "inputs_train, queries_train, answers_train = vectorize_stories(train_data)"
   ]
  },
  {
   "cell_type": "code",
   "execution_count": 35,
   "metadata": {},
   "outputs": [],
   "source": [
    "inputs_test, queries_test, answers_test = vectorize_stories(test_data)"
   ]
  },
  {
   "cell_type": "code",
   "execution_count": 36,
   "metadata": {},
   "outputs": [
    {
     "data": {
      "text/plain": [
       "array([[ 0,  0,  0, ..., 28, 35, 34],\n",
       "       [ 0,  0,  0, ..., 28, 33, 34],\n",
       "       [ 0,  0,  0, ..., 28, 33, 34],\n",
       "       ...,\n",
       "       [ 0,  0,  0, ..., 28, 32, 34],\n",
       "       [ 0,  0,  0, ..., 28, 33, 34],\n",
       "       [ 0,  0,  0, ..., 32, 21, 34]])"
      ]
     },
     "execution_count": 36,
     "metadata": {},
     "output_type": "execute_result"
    }
   ],
   "source": [
    "inputs_test"
   ]
  },
  {
   "cell_type": "code",
   "execution_count": 37,
   "metadata": {},
   "outputs": [
    {
     "data": {
      "text/plain": [
       "array([[17, 27,  4, 28, 12, 19],\n",
       "       [17, 27,  4, 28, 12, 19],\n",
       "       [17, 27,  4, 28, 33, 19],\n",
       "       ...,\n",
       "       [17,  1,  4, 28, 35, 19],\n",
       "       [17,  9,  4, 28, 33, 19],\n",
       "       [17,  1,  4, 28, 33, 19]])"
      ]
     },
     "execution_count": 37,
     "metadata": {},
     "output_type": "execute_result"
    }
   ],
   "source": [
    "queries_test"
   ]
  },
  {
   "cell_type": "code",
   "execution_count": 38,
   "metadata": {},
   "outputs": [
    {
     "data": {
      "text/plain": [
       "array([[0., 0., 0., ..., 0., 0., 0.],\n",
       "       [0., 0., 0., ..., 0., 0., 0.],\n",
       "       [0., 0., 0., ..., 0., 0., 0.],\n",
       "       ...,\n",
       "       [0., 0., 0., ..., 0., 0., 0.],\n",
       "       [0., 0., 0., ..., 0., 0., 0.],\n",
       "       [0., 0., 0., ..., 0., 0., 0.]])"
      ]
     },
     "execution_count": 38,
     "metadata": {},
     "output_type": "execute_result"
    }
   ],
   "source": [
    "answers_test"
   ]
  },
  {
   "cell_type": "code",
   "execution_count": 39,
   "metadata": {},
   "outputs": [
    {
     "data": {
      "text/plain": [
       "array([  0.,   0.,   0.,   0.,   0.,   0.,   0.,   0.,   0.,   0.,   0.,\n",
       "         0.,   0.,   0.,   0.,   0.,   0.,   0.,   0.,   0.,   0.,   0.,\n",
       "         0.,   0., 497., 503.,   0.,   0.,   0.,   0.,   0.,   0.,   0.,\n",
       "         0.,   0.,   0.,   0.,   0.])"
      ]
     },
     "execution_count": 39,
     "metadata": {},
     "output_type": "execute_result"
    }
   ],
   "source": [
    "sum(answers_test)"
   ]
  },
  {
   "cell_type": "code",
   "execution_count": 40,
   "metadata": {},
   "outputs": [
    {
     "data": {
      "text/plain": [
       "24"
      ]
     },
     "execution_count": 40,
     "metadata": {},
     "output_type": "execute_result"
    }
   ],
   "source": [
    "tokenizer.word_index['yes']"
   ]
  },
  {
   "cell_type": "code",
   "execution_count": 41,
   "metadata": {},
   "outputs": [
    {
     "data": {
      "text/plain": [
       "25"
      ]
     },
     "execution_count": 41,
     "metadata": {},
     "output_type": "execute_result"
    }
   ],
   "source": [
    "tokenizer.word_index['no']"
   ]
  },
  {
   "cell_type": "markdown",
   "metadata": {},
   "source": [
    "## Creating the Model"
   ]
  },
  {
   "cell_type": "code",
   "execution_count": 42,
   "metadata": {},
   "outputs": [],
   "source": [
    "from keras.models import Sequential, Model\n",
    "from keras.layers.embeddings import Embedding\n",
    "from keras.layers import Input, Activation, Dense, Permute, Dropout\n",
    "from keras.layers import add, dot, concatenate\n",
    "from keras.layers import LSTM"
   ]
  },
  {
   "cell_type": "markdown",
   "metadata": {},
   "source": [
    "### Placeholders for Inputs\n",
    "\n",
    "we technically have two inputs, stories and questions. So we need to use placeholders. `Input()` is used to instantiate a Keras tensor.\n"
   ]
  },
  {
   "cell_type": "code",
   "execution_count": 43,
   "metadata": {},
   "outputs": [],
   "source": [
    "input_sequence = Input((max_story_len,))\n",
    "question = Input((max_question_len,))"
   ]
  },
  {
   "cell_type": "markdown",
   "metadata": {
    "collapsed": true
   },
   "source": [
    "### Building the Networks\n",
    "\n",
    "To understand why we chose this setup, make sure to read the paper we are using:\n",
    "\n",
    "* Sainbayar Sukhbaatar, Arthur Szlam, Jason Weston, Rob Fergus,\n",
    "  \"End-To-End Memory Networks\",\n",
    "  http://arxiv.org/abs/1503.08895"
   ]
  },
  {
   "cell_type": "markdown",
   "metadata": {},
   "source": [
    "## Encoders\n",
    "\n",
    "### Input Encoder m"
   ]
  },
  {
   "cell_type": "code",
   "execution_count": 44,
   "metadata": {},
   "outputs": [],
   "source": [
    "# Input gets embedded to a sequence of vectors\n",
    "input_encoder_m = Sequential()\n",
    "input_encoder_m.add(Embedding(input_dim=vocab_size,output_dim=64))\n",
    "input_encoder_m.add(Dropout(0.3))\n",
    "\n",
    "# This encoder will output:\n",
    "# (samples, story_maxlen, embedding_dim)"
   ]
  },
  {
   "cell_type": "markdown",
   "metadata": {},
   "source": [
    "### Input Encoder c"
   ]
  },
  {
   "cell_type": "code",
   "execution_count": 45,
   "metadata": {},
   "outputs": [],
   "source": [
    "# embed the input into a sequence of vectors of size query_maxlen\n",
    "input_encoder_c = Sequential()\n",
    "input_encoder_c.add(Embedding(input_dim=vocab_size,output_dim=max_question_len))\n",
    "input_encoder_c.add(Dropout(0.3))\n",
    "# output: (samples, story_maxlen, query_maxlen)"
   ]
  },
  {
   "cell_type": "markdown",
   "metadata": {},
   "source": [
    "### Question Encoder"
   ]
  },
  {
   "cell_type": "code",
   "execution_count": 46,
   "metadata": {},
   "outputs": [],
   "source": [
    "# embed the question into a sequence of vectors\n",
    "question_encoder = Sequential()\n",
    "question_encoder.add(Embedding(input_dim=vocab_size,\n",
    "                               output_dim=64,\n",
    "                               input_length=max_question_len))\n",
    "question_encoder.add(Dropout(0.3))\n",
    "# output: (samples, query_maxlen, embedding_dim)"
   ]
  },
  {
   "cell_type": "markdown",
   "metadata": {},
   "source": [
    "### Encode the Sequences"
   ]
  },
  {
   "cell_type": "code",
   "execution_count": 47,
   "metadata": {},
   "outputs": [],
   "source": [
    "# encode input sequence and questions (which are indices)\n",
    "# to sequences of dense vectors\n",
    "input_encoded_m = input_encoder_m(input_sequence)\n",
    "input_encoded_c = input_encoder_c(input_sequence)\n",
    "question_encoded = question_encoder(question)"
   ]
  },
  {
   "cell_type": "markdown",
   "metadata": {},
   "source": [
    "##### Use dot product to compute the match between first input vector seq and the query"
   ]
  },
  {
   "cell_type": "code",
   "execution_count": 48,
   "metadata": {},
   "outputs": [],
   "source": [
    "# shape: `(samples, story_maxlen, query_maxlen)`\n",
    "match = dot([input_encoded_m, question_encoded], axes=(2, 2))\n",
    "match = Activation('softmax')(match)"
   ]
  },
  {
   "cell_type": "markdown",
   "metadata": {},
   "source": [
    "#### Add this match matrix with the second input vector sequence"
   ]
  },
  {
   "cell_type": "code",
   "execution_count": 49,
   "metadata": {},
   "outputs": [],
   "source": [
    "# add the match matrix with the second input vector sequence\n",
    "response = add([match, input_encoded_c])  # (samples, story_maxlen, query_maxlen)\n",
    "response = Permute((2, 1))(response)  # (samples, query_maxlen, story_maxlen)"
   ]
  },
  {
   "cell_type": "markdown",
   "metadata": {},
   "source": [
    "#### Concatenate"
   ]
  },
  {
   "cell_type": "code",
   "execution_count": 50,
   "metadata": {},
   "outputs": [],
   "source": [
    "# concatenate the match matrix with the question vector sequence\n",
    "answer = concatenate([response, question_encoded])"
   ]
  },
  {
   "cell_type": "code",
   "execution_count": 51,
   "metadata": {},
   "outputs": [
    {
     "data": {
      "text/plain": [
       "<tf.Tensor 'concatenate_1/concat:0' shape=(?, 6, 220) dtype=float32>"
      ]
     },
     "execution_count": 51,
     "metadata": {},
     "output_type": "execute_result"
    }
   ],
   "source": [
    "answer"
   ]
  },
  {
   "cell_type": "code",
   "execution_count": 52,
   "metadata": {},
   "outputs": [],
   "source": [
    "# Reduce with RNN (LSTM)\n",
    "answer = LSTM(32)(answer)  # (samples, 32)"
   ]
  },
  {
   "cell_type": "code",
   "execution_count": 53,
   "metadata": {},
   "outputs": [],
   "source": [
    "# Regularization with Dropout\n",
    "answer = Dropout(0.5)(answer)\n",
    "answer = Dense(vocab_size)(answer)  # (samples, vocab_size)"
   ]
  },
  {
   "cell_type": "code",
   "execution_count": 54,
   "metadata": {},
   "outputs": [],
   "source": [
    "# we output a probability distribution over the vocabulary\n",
    "answer = Activation('softmax')(answer)\n",
    "\n",
    "# build the final model\n",
    "model = Model([input_sequence, question], answer)\n",
    "model.compile(optimizer='rmsprop', loss='categorical_crossentropy',\n",
    "              metrics=['accuracy'])"
   ]
  },
  {
   "cell_type": "code",
   "execution_count": 55,
   "metadata": {},
   "outputs": [
    {
     "name": "stdout",
     "output_type": "stream",
     "text": [
      "__________________________________________________________________________________________________\n",
      "Layer (type)                    Output Shape         Param #     Connected to                     \n",
      "==================================================================================================\n",
      "input_1 (InputLayer)            (None, 156)          0                                            \n",
      "__________________________________________________________________________________________________\n",
      "input_2 (InputLayer)            (None, 6)            0                                            \n",
      "__________________________________________________________________________________________________\n",
      "sequential_1 (Sequential)       multiple             2432        input_1[0][0]                    \n",
      "__________________________________________________________________________________________________\n",
      "sequential_3 (Sequential)       (None, 6, 64)        2432        input_2[0][0]                    \n",
      "__________________________________________________________________________________________________\n",
      "dot_1 (Dot)                     (None, 156, 6)       0           sequential_1[1][0]               \n",
      "                                                                 sequential_3[1][0]               \n",
      "__________________________________________________________________________________________________\n",
      "activation_1 (Activation)       (None, 156, 6)       0           dot_1[0][0]                      \n",
      "__________________________________________________________________________________________________\n",
      "sequential_2 (Sequential)       multiple             228         input_1[0][0]                    \n",
      "__________________________________________________________________________________________________\n",
      "add_1 (Add)                     (None, 156, 6)       0           activation_1[0][0]               \n",
      "                                                                 sequential_2[1][0]               \n",
      "__________________________________________________________________________________________________\n",
      "permute_1 (Permute)             (None, 6, 156)       0           add_1[0][0]                      \n",
      "__________________________________________________________________________________________________\n",
      "concatenate_1 (Concatenate)     (None, 6, 220)       0           permute_1[0][0]                  \n",
      "                                                                 sequential_3[1][0]               \n",
      "__________________________________________________________________________________________________\n",
      "lstm_1 (LSTM)                   (None, 32)           32384       concatenate_1[0][0]              \n",
      "__________________________________________________________________________________________________\n",
      "dropout_4 (Dropout)             (None, 32)           0           lstm_1[0][0]                     \n",
      "__________________________________________________________________________________________________\n",
      "dense_1 (Dense)                 (None, 38)           1254        dropout_4[0][0]                  \n",
      "__________________________________________________________________________________________________\n",
      "activation_2 (Activation)       (None, 38)           0           dense_1[0][0]                    \n",
      "==================================================================================================\n",
      "Total params: 38,730\n",
      "Trainable params: 38,730\n",
      "Non-trainable params: 0\n",
      "__________________________________________________________________________________________________\n"
     ]
    }
   ],
   "source": [
    "model.summary()"
   ]
  },
  {
   "cell_type": "code",
   "execution_count": 56,
   "metadata": {},
   "outputs": [
    {
     "name": "stdout",
     "output_type": "stream",
     "text": [
      "Train on 10000 samples, validate on 1000 samples\n",
      "Epoch 1/120\n",
      "10000/10000 [==============================] - 14s 1ms/step - loss: 0.8579 - acc: 0.4956 - val_loss: 0.6946 - val_acc: 0.4970\n",
      "Epoch 2/120\n",
      "10000/10000 [==============================] - 7s 733us/step - loss: 0.7016 - acc: 0.5046 - val_loss: 0.6937 - val_acc: 0.5030\n",
      "Epoch 3/120\n",
      "10000/10000 [==============================] - 7s 722us/step - loss: 0.6960 - acc: 0.4961 - val_loss: 0.6932 - val_acc: 0.5010\n",
      "Epoch 4/120\n",
      "10000/10000 [==============================] - 7s 717us/step - loss: 0.6950 - acc: 0.5033 - val_loss: 0.6932 - val_acc: 0.4970\n",
      "Epoch 5/120\n",
      "10000/10000 [==============================] - 7s 731us/step - loss: 0.6947 - acc: 0.5040 - val_loss: 0.6932 - val_acc: 0.5030\n",
      "Epoch 6/120\n",
      "10000/10000 [==============================] - 7s 722us/step - loss: 0.6946 - acc: 0.5063 - val_loss: 0.6947 - val_acc: 0.4970\n",
      "Epoch 7/120\n",
      "10000/10000 [==============================] - 7s 746us/step - loss: 0.6948 - acc: 0.5002 - val_loss: 0.6940 - val_acc: 0.5030\n",
      "Epoch 8/120\n",
      "10000/10000 [==============================] - 7s 714us/step - loss: 0.6945 - acc: 0.5012 - val_loss: 0.6937 - val_acc: 0.5030\n",
      "Epoch 9/120\n",
      "10000/10000 [==============================] - 7s 722us/step - loss: 0.6946 - acc: 0.4964 - val_loss: 0.6940 - val_acc: 0.4980\n",
      "Epoch 10/120\n",
      "10000/10000 [==============================] - 7s 722us/step - loss: 0.6930 - acc: 0.5119 - val_loss: 0.6938 - val_acc: 0.5050\n",
      "Epoch 11/120\n",
      "10000/10000 [==============================] - 7s 714us/step - loss: 0.6874 - acc: 0.5439 - val_loss: 0.6789 - val_acc: 0.5780\n",
      "Epoch 12/120\n",
      "10000/10000 [==============================] - 7s 740us/step - loss: 0.6335 - acc: 0.6413 - val_loss: 0.5381 - val_acc: 0.7520\n",
      "Epoch 13/120\n",
      "10000/10000 [==============================] - 7s 741us/step - loss: 0.5416 - acc: 0.7448 - val_loss: 0.4534 - val_acc: 0.8110\n",
      "Epoch 14/120\n",
      "10000/10000 [==============================] - 8s 752us/step - loss: 0.4809 - acc: 0.7876 - val_loss: 0.4279 - val_acc: 0.8070\n",
      "Epoch 15/120\n",
      "10000/10000 [==============================] - 8s 768us/step - loss: 0.4383 - acc: 0.8170 - val_loss: 0.3954 - val_acc: 0.8280\n",
      "Epoch 16/120\n",
      "10000/10000 [==============================] - 7s 750us/step - loss: 0.4130 - acc: 0.8286 - val_loss: 0.3904 - val_acc: 0.8180\n",
      "Epoch 17/120\n",
      "10000/10000 [==============================] - 7s 734us/step - loss: 0.3953 - acc: 0.8364 - val_loss: 0.3773 - val_acc: 0.8280\n",
      "Epoch 18/120\n",
      "10000/10000 [==============================] - 7s 737us/step - loss: 0.3818 - acc: 0.8441 - val_loss: 0.3761 - val_acc: 0.8400\n",
      "Epoch 19/120\n",
      "10000/10000 [==============================] - 8s 764us/step - loss: 0.3651 - acc: 0.8510 - val_loss: 0.3620 - val_acc: 0.8390\n",
      "Epoch 20/120\n",
      "10000/10000 [==============================] - 8s 758us/step - loss: 0.3556 - acc: 0.8523 - val_loss: 0.3787 - val_acc: 0.8220\n",
      "Epoch 21/120\n",
      "10000/10000 [==============================] - 8s 756us/step - loss: 0.3404 - acc: 0.8585 - val_loss: 0.3762 - val_acc: 0.8360\n",
      "Epoch 22/120\n",
      "10000/10000 [==============================] - 8s 802us/step - loss: 0.3387 - acc: 0.8577 - val_loss: 0.3524 - val_acc: 0.8350\n",
      "Epoch 23/120\n",
      "10000/10000 [==============================] - 7s 727us/step - loss: 0.3317 - acc: 0.8597 - val_loss: 0.3597 - val_acc: 0.8350\n",
      "Epoch 24/120\n",
      "10000/10000 [==============================] - 7s 741us/step - loss: 0.3315 - acc: 0.8573 - val_loss: 0.3646 - val_acc: 0.8340\n",
      "Epoch 25/120\n",
      "10000/10000 [==============================] - 7s 701us/step - loss: 0.3212 - acc: 0.8635 - val_loss: 0.3426 - val_acc: 0.8430\n",
      "Epoch 26/120\n",
      "10000/10000 [==============================] - 7s 703us/step - loss: 0.3178 - acc: 0.8628 - val_loss: 0.3441 - val_acc: 0.8360\n",
      "Epoch 27/120\n",
      "10000/10000 [==============================] - 7s 700us/step - loss: 0.3151 - acc: 0.8649 - val_loss: 0.3391 - val_acc: 0.8430\n",
      "Epoch 28/120\n",
      "10000/10000 [==============================] - 7s 709us/step - loss: 0.3148 - acc: 0.8632 - val_loss: 0.3447 - val_acc: 0.8360\n",
      "Epoch 29/120\n",
      "10000/10000 [==============================] - 7s 723us/step - loss: 0.3076 - acc: 0.8662 - val_loss: 0.3629 - val_acc: 0.8250\n",
      "Epoch 30/120\n",
      "10000/10000 [==============================] - 7s 721us/step - loss: 0.3096 - acc: 0.8627 - val_loss: 0.3485 - val_acc: 0.8320\n",
      "Epoch 31/120\n",
      "10000/10000 [==============================] - 7s 717us/step - loss: 0.3101 - acc: 0.8643 - val_loss: 0.3470 - val_acc: 0.8370\n",
      "Epoch 32/120\n",
      "10000/10000 [==============================] - 8s 762us/step - loss: 0.3040 - acc: 0.8650 - val_loss: 0.3498 - val_acc: 0.8280\n",
      "Epoch 33/120\n",
      "10000/10000 [==============================] - 7s 746us/step - loss: 0.3039 - acc: 0.8643 - val_loss: 0.3389 - val_acc: 0.8340\n",
      "Epoch 34/120\n",
      "10000/10000 [==============================] - 8s 763us/step - loss: 0.3052 - acc: 0.8684 - val_loss: 0.3433 - val_acc: 0.8360\n",
      "Epoch 35/120\n",
      "10000/10000 [==============================] - 8s 774us/step - loss: 0.2984 - acc: 0.8662 - val_loss: 0.3577 - val_acc: 0.8390\n",
      "Epoch 36/120\n",
      "10000/10000 [==============================] - 8s 783us/step - loss: 0.3030 - acc: 0.8672 - val_loss: 0.3325 - val_acc: 0.8410\n",
      "Epoch 37/120\n",
      "10000/10000 [==============================] - 8s 785us/step - loss: 0.2989 - acc: 0.8674 - val_loss: 0.3408 - val_acc: 0.8400\n",
      "Epoch 38/120\n",
      "10000/10000 [==============================] - 8s 756us/step - loss: 0.2934 - acc: 0.8698 - val_loss: 0.3372 - val_acc: 0.8470\n",
      "Epoch 39/120\n",
      "10000/10000 [==============================] - 7s 732us/step - loss: 0.2991 - acc: 0.8687 - val_loss: 0.3308 - val_acc: 0.8490\n",
      "Epoch 40/120\n",
      "10000/10000 [==============================] - 8s 782us/step - loss: 0.2956 - acc: 0.8702 - val_loss: 0.3385 - val_acc: 0.8370\n",
      "Epoch 41/120\n",
      "10000/10000 [==============================] - 7s 735us/step - loss: 0.2957 - acc: 0.8703 - val_loss: 0.3344 - val_acc: 0.8400\n",
      "Epoch 42/120\n",
      "10000/10000 [==============================] - 7s 733us/step - loss: 0.2927 - acc: 0.8712 - val_loss: 0.3463 - val_acc: 0.8410\n",
      "Epoch 43/120\n",
      "10000/10000 [==============================] - 7s 736us/step - loss: 0.2962 - acc: 0.8725 - val_loss: 0.3303 - val_acc: 0.8450\n",
      "Epoch 44/120\n",
      "10000/10000 [==============================] - 7s 738us/step - loss: 0.2920 - acc: 0.8702 - val_loss: 0.3843 - val_acc: 0.8350\n",
      "Epoch 45/120\n",
      "10000/10000 [==============================] - 8s 818us/step - loss: 0.2908 - acc: 0.8696 - val_loss: 0.3557 - val_acc: 0.8410\n",
      "Epoch 46/120\n",
      "10000/10000 [==============================] - 7s 700us/step - loss: 0.2922 - acc: 0.8713 - val_loss: 0.3343 - val_acc: 0.8440\n",
      "Epoch 47/120\n",
      "10000/10000 [==============================] - 7s 682us/step - loss: 0.2899 - acc: 0.8734 - val_loss: 0.3358 - val_acc: 0.8410\n",
      "Epoch 48/120\n",
      "10000/10000 [==============================] - 7s 661us/step - loss: 0.2888 - acc: 0.8698 - val_loss: 0.3377 - val_acc: 0.8380\n",
      "Epoch 49/120\n",
      "10000/10000 [==============================] - 7s 702us/step - loss: 0.2898 - acc: 0.8713 - val_loss: 0.3372 - val_acc: 0.8430\n",
      "Epoch 50/120\n",
      "10000/10000 [==============================] - 7s 711us/step - loss: 0.2903 - acc: 0.8720 - val_loss: 0.3325 - val_acc: 0.8430\n",
      "Epoch 51/120\n",
      "10000/10000 [==============================] - 7s 704us/step - loss: 0.2875 - acc: 0.8733 - val_loss: 0.3443 - val_acc: 0.8380\n",
      "Epoch 52/120\n",
      "10000/10000 [==============================] - 7s 694us/step - loss: 0.2913 - acc: 0.8694 - val_loss: 0.3480 - val_acc: 0.8420\n",
      "Epoch 53/120\n",
      "10000/10000 [==============================] - 7s 685us/step - loss: 0.2876 - acc: 0.8715 - val_loss: 0.3296 - val_acc: 0.8440\n",
      "Epoch 54/120\n",
      "10000/10000 [==============================] - 7s 681us/step - loss: 0.2845 - acc: 0.8737 - val_loss: 0.3431 - val_acc: 0.8370\n",
      "Epoch 55/120\n",
      "10000/10000 [==============================] - 7s 688us/step - loss: 0.2877 - acc: 0.8718 - val_loss: 0.3684 - val_acc: 0.8390\n",
      "Epoch 56/120\n",
      "10000/10000 [==============================] - 7s 724us/step - loss: 0.2874 - acc: 0.8747 - val_loss: 0.3506 - val_acc: 0.8410\n",
      "Epoch 57/120\n",
      "10000/10000 [==============================] - 7s 732us/step - loss: 0.2838 - acc: 0.8720 - val_loss: 0.3399 - val_acc: 0.8420\n",
      "Epoch 58/120\n",
      "10000/10000 [==============================] - 7s 716us/step - loss: 0.2870 - acc: 0.8741 - val_loss: 0.3665 - val_acc: 0.8400\n",
      "Epoch 59/120\n"
     ]
    },
    {
     "name": "stdout",
     "output_type": "stream",
     "text": [
      "10000/10000 [==============================] - 7s 683us/step - loss: 0.2889 - acc: 0.8753 - val_loss: 0.3281 - val_acc: 0.8410\n",
      "Epoch 60/120\n",
      "10000/10000 [==============================] - 7s 684us/step - loss: 0.2837 - acc: 0.8763 - val_loss: 0.3386 - val_acc: 0.8430\n",
      "Epoch 61/120\n",
      "10000/10000 [==============================] - 7s 684us/step - loss: 0.2849 - acc: 0.8748 - val_loss: 0.3516 - val_acc: 0.8510\n",
      "Epoch 62/120\n",
      "10000/10000 [==============================] - 7s 702us/step - loss: 0.2863 - acc: 0.8705 - val_loss: 0.3437 - val_acc: 0.8460\n",
      "Epoch 63/120\n",
      "10000/10000 [==============================] - 7s 697us/step - loss: 0.2810 - acc: 0.8765 - val_loss: 0.3472 - val_acc: 0.8430\n",
      "Epoch 64/120\n",
      "10000/10000 [==============================] - 7s 692us/step - loss: 0.2824 - acc: 0.8769 - val_loss: 0.3435 - val_acc: 0.8340\n",
      "Epoch 65/120\n",
      "10000/10000 [==============================] - 7s 685us/step - loss: 0.2789 - acc: 0.8758 - val_loss: 0.3578 - val_acc: 0.8390\n",
      "Epoch 66/120\n",
      "10000/10000 [==============================] - 7s 687us/step - loss: 0.2824 - acc: 0.8771 - val_loss: 0.3542 - val_acc: 0.8360\n",
      "Epoch 67/120\n",
      "10000/10000 [==============================] - 7s 686us/step - loss: 0.2750 - acc: 0.8799 - val_loss: 0.3456 - val_acc: 0.8480\n",
      "Epoch 68/120\n",
      "10000/10000 [==============================] - 7s 686us/step - loss: 0.2811 - acc: 0.8761 - val_loss: 0.3529 - val_acc: 0.8400\n",
      "Epoch 69/120\n",
      "10000/10000 [==============================] - 7s 685us/step - loss: 0.2738 - acc: 0.8755 - val_loss: 0.3469 - val_acc: 0.8390\n",
      "Epoch 70/120\n",
      "10000/10000 [==============================] - 7s 688us/step - loss: 0.2741 - acc: 0.8787 - val_loss: 0.3754 - val_acc: 0.8370\n",
      "Epoch 71/120\n",
      "10000/10000 [==============================] - 7s 692us/step - loss: 0.2744 - acc: 0.8797 - val_loss: 0.3682 - val_acc: 0.8280\n",
      "Epoch 72/120\n",
      "10000/10000 [==============================] - 7s 688us/step - loss: 0.2772 - acc: 0.8781 - val_loss: 0.3616 - val_acc: 0.8390\n",
      "Epoch 73/120\n",
      "10000/10000 [==============================] - 7s 718us/step - loss: 0.2729 - acc: 0.8792 - val_loss: 0.3477 - val_acc: 0.8440\n",
      "Epoch 74/120\n",
      "10000/10000 [==============================] - 7s 719us/step - loss: 0.2710 - acc: 0.8828 - val_loss: 0.3591 - val_acc: 0.8400\n",
      "Epoch 75/120\n",
      "10000/10000 [==============================] - 6s 644us/step - loss: 0.2678 - acc: 0.8821 - val_loss: 0.3646 - val_acc: 0.8400\n",
      "Epoch 76/120\n",
      "10000/10000 [==============================] - 7s 653us/step - loss: 0.2685 - acc: 0.8814 - val_loss: 0.3594 - val_acc: 0.8370\n",
      "Epoch 77/120\n",
      "10000/10000 [==============================] - 7s 652us/step - loss: 0.2689 - acc: 0.8832 - val_loss: 0.3585 - val_acc: 0.8330\n",
      "Epoch 78/120\n",
      "10000/10000 [==============================] - 7s 660us/step - loss: 0.2651 - acc: 0.8838 - val_loss: 0.3572 - val_acc: 0.8330\n",
      "Epoch 79/120\n",
      "10000/10000 [==============================] - 7s 695us/step - loss: 0.2670 - acc: 0.8794 - val_loss: 0.3771 - val_acc: 0.8340\n",
      "Epoch 80/120\n",
      "10000/10000 [==============================] - 7s 686us/step - loss: 0.2760 - acc: 0.8828 - val_loss: 0.3942 - val_acc: 0.8310\n",
      "Epoch 81/120\n",
      "10000/10000 [==============================] - 7s 686us/step - loss: 0.2673 - acc: 0.8821 - val_loss: 0.3759 - val_acc: 0.8400\n",
      "Epoch 82/120\n",
      "10000/10000 [==============================] - 7s 658us/step - loss: 0.2707 - acc: 0.8843 - val_loss: 0.3718 - val_acc: 0.8270\n",
      "Epoch 83/120\n",
      "10000/10000 [==============================] - 7s 675us/step - loss: 0.2647 - acc: 0.8817 - val_loss: 0.3884 - val_acc: 0.8390\n",
      "Epoch 84/120\n",
      "10000/10000 [==============================] - 7s 706us/step - loss: 0.2670 - acc: 0.8843 - val_loss: 0.3587 - val_acc: 0.8370\n",
      "Epoch 85/120\n",
      "10000/10000 [==============================] - 7s 669us/step - loss: 0.2606 - acc: 0.8846 - val_loss: 0.3627 - val_acc: 0.8330\n",
      "Epoch 86/120\n",
      "10000/10000 [==============================] - 7s 674us/step - loss: 0.2683 - acc: 0.8852 - val_loss: 0.3670 - val_acc: 0.8360\n",
      "Epoch 87/120\n",
      "10000/10000 [==============================] - 7s 679us/step - loss: 0.2570 - acc: 0.8877 - val_loss: 0.3605 - val_acc: 0.8320\n",
      "Epoch 88/120\n",
      "10000/10000 [==============================] - 7s 731us/step - loss: 0.2554 - acc: 0.8893 - val_loss: 0.3762 - val_acc: 0.8430\n",
      "Epoch 89/120\n",
      "10000/10000 [==============================] - 7s 683us/step - loss: 0.2604 - acc: 0.8872 - val_loss: 0.4028 - val_acc: 0.8360\n",
      "Epoch 90/120\n",
      "10000/10000 [==============================] - 8s 796us/step - loss: 0.2577 - acc: 0.8891 - val_loss: 0.3918 - val_acc: 0.8350\n",
      "Epoch 91/120\n",
      "10000/10000 [==============================] - 7s 735us/step - loss: 0.2545 - acc: 0.8887 - val_loss: 0.3779 - val_acc: 0.8380\n",
      "Epoch 92/120\n",
      "10000/10000 [==============================] - 8s 770us/step - loss: 0.2537 - acc: 0.8881 - val_loss: 0.3697 - val_acc: 0.8340\n",
      "Epoch 93/120\n",
      "10000/10000 [==============================] - 7s 732us/step - loss: 0.2545 - acc: 0.8889 - val_loss: 0.3949 - val_acc: 0.8350\n",
      "Epoch 94/120\n",
      "10000/10000 [==============================] - 7s 726us/step - loss: 0.2492 - acc: 0.8934 - val_loss: 0.3841 - val_acc: 0.8310\n",
      "Epoch 95/120\n",
      "10000/10000 [==============================] - 7s 724us/step - loss: 0.2582 - acc: 0.8884 - val_loss: 0.3846 - val_acc: 0.8360\n",
      "Epoch 96/120\n",
      "10000/10000 [==============================] - 7s 730us/step - loss: 0.2477 - acc: 0.8934 - val_loss: 0.3993 - val_acc: 0.8370\n",
      "Epoch 97/120\n",
      "10000/10000 [==============================] - 7s 724us/step - loss: 0.2535 - acc: 0.8918 - val_loss: 0.4133 - val_acc: 0.8380\n",
      "Epoch 98/120\n",
      "10000/10000 [==============================] - 7s 708us/step - loss: 0.2506 - acc: 0.8907 - val_loss: 0.3946 - val_acc: 0.8390\n",
      "Epoch 99/120\n",
      "10000/10000 [==============================] - 7s 703us/step - loss: 0.2452 - acc: 0.8913 - val_loss: 0.3902 - val_acc: 0.8330\n",
      "Epoch 100/120\n",
      "10000/10000 [==============================] - 7s 702us/step - loss: 0.2519 - acc: 0.8912 - val_loss: 0.3881 - val_acc: 0.8420\n",
      "Epoch 101/120\n",
      "10000/10000 [==============================] - 7s 713us/step - loss: 0.2470 - acc: 0.8936 - val_loss: 0.4235 - val_acc: 0.8360\n",
      "Epoch 102/120\n",
      "10000/10000 [==============================] - 7s 733us/step - loss: 0.2437 - acc: 0.8956 - val_loss: 0.4273 - val_acc: 0.8370\n",
      "Epoch 103/120\n",
      "10000/10000 [==============================] - 7s 723us/step - loss: 0.2421 - acc: 0.8975 - val_loss: 0.4319 - val_acc: 0.8340\n",
      "Epoch 104/120\n",
      "10000/10000 [==============================] - 7s 729us/step - loss: 0.2435 - acc: 0.8945 - val_loss: 0.4070 - val_acc: 0.8380\n",
      "Epoch 105/120\n",
      "10000/10000 [==============================] - 7s 722us/step - loss: 0.2425 - acc: 0.8948 - val_loss: 0.4541 - val_acc: 0.8240\n",
      "Epoch 106/120\n",
      "10000/10000 [==============================] - 7s 721us/step - loss: 0.2428 - acc: 0.8948 - val_loss: 0.4108 - val_acc: 0.8400\n",
      "Epoch 107/120\n",
      "10000/10000 [==============================] - 7s 720us/step - loss: 0.2374 - acc: 0.8989 - val_loss: 0.4138 - val_acc: 0.8370\n",
      "Epoch 108/120\n",
      "10000/10000 [==============================] - 7s 723us/step - loss: 0.2354 - acc: 0.8981 - val_loss: 0.4106 - val_acc: 0.8360\n",
      "Epoch 109/120\n",
      "10000/10000 [==============================] - 7s 721us/step - loss: 0.2380 - acc: 0.9024 - val_loss: 0.4353 - val_acc: 0.8360\n",
      "Epoch 110/120\n",
      "10000/10000 [==============================] - 7s 720us/step - loss: 0.2327 - acc: 0.8999 - val_loss: 0.4222 - val_acc: 0.8330\n",
      "Epoch 111/120\n",
      "10000/10000 [==============================] - 7s 717us/step - loss: 0.2303 - acc: 0.9044 - val_loss: 0.4468 - val_acc: 0.8360\n",
      "Epoch 112/120\n",
      "10000/10000 [==============================] - 7s 715us/step - loss: 0.2305 - acc: 0.9015 - val_loss: 0.4547 - val_acc: 0.8290\n",
      "Epoch 113/120\n",
      "10000/10000 [==============================] - 7s 721us/step - loss: 0.2329 - acc: 0.9022 - val_loss: 0.4103 - val_acc: 0.8280\n",
      "Epoch 114/120\n",
      "10000/10000 [==============================] - 7s 713us/step - loss: 0.2323 - acc: 0.9014 - val_loss: 0.4189 - val_acc: 0.8260\n",
      "Epoch 115/120\n",
      "10000/10000 [==============================] - 7s 715us/step - loss: 0.2314 - acc: 0.9034 - val_loss: 0.4539 - val_acc: 0.8300\n",
      "Epoch 116/120\n",
      "10000/10000 [==============================] - 7s 713us/step - loss: 0.2249 - acc: 0.9024 - val_loss: 0.4195 - val_acc: 0.8360\n",
      "Epoch 117/120\n"
     ]
    },
    {
     "name": "stdout",
     "output_type": "stream",
     "text": [
      "10000/10000 [==============================] - 7s 710us/step - loss: 0.2254 - acc: 0.9048 - val_loss: 0.4321 - val_acc: 0.8380\n",
      "Epoch 118/120\n",
      "10000/10000 [==============================] - 7s 720us/step - loss: 0.2282 - acc: 0.9044 - val_loss: 0.3986 - val_acc: 0.8410\n",
      "Epoch 119/120\n",
      "10000/10000 [==============================] - 7s 732us/step - loss: 0.2251 - acc: 0.9074 - val_loss: 0.4060 - val_acc: 0.8490\n",
      "Epoch 120/120\n",
      "10000/10000 [==============================] - 7s 721us/step - loss: 0.2177 - acc: 0.9088 - val_loss: 0.4062 - val_acc: 0.8420\n"
     ]
    }
   ],
   "source": [
    "# train\n",
    "history = model.fit([inputs_train, queries_train], answers_train,batch_size=32,epochs=120,validation_data=([inputs_test, queries_test], answers_test))"
   ]
  },
  {
   "cell_type": "markdown",
   "metadata": {},
   "source": [
    "### Saving the Model"
   ]
  },
  {
   "cell_type": "code",
   "execution_count": 57,
   "metadata": {},
   "outputs": [],
   "source": [
    "filename = 'chatbot_120_epochs.h5'\n",
    "model.save(filename)"
   ]
  },
  {
   "cell_type": "markdown",
   "metadata": {},
   "source": [
    "## Evaluating the Model\n",
    "\n",
    "### Plotting Out Training History"
   ]
  },
  {
   "cell_type": "code",
   "execution_count": 58,
   "metadata": {},
   "outputs": [
    {
     "name": "stdout",
     "output_type": "stream",
     "text": [
      "dict_keys(['val_loss', 'val_acc', 'loss', 'acc'])\n"
     ]
    },
    {
     "data": {
      "image/png": "[encoded data removed]",
      "text/plain": [
       "<Figure size 432x288 with 1 Axes>"
      ]
     },
     "metadata": {
      "needs_background": "light"
     },
     "output_type": "display_data"
    }
   ],
   "source": [
    "import matplotlib.pyplot as plt\n",
    "%matplotlib inline\n",
    "print(history.history.keys())\n",
    "# summarize history for accuracy\n",
    "plt.plot(history.history['acc'])\n",
    "plt.plot(history.history['val_acc'])\n",
    "plt.title('model accuracy')\n",
    "plt.ylabel('accuracy')\n",
    "plt.xlabel('epoch')\n",
    "plt.legend(['train', 'test'], loc='upper left')\n",
    "plt.show()"
   ]
  },
  {
   "cell_type": "markdown",
   "metadata": {},
   "source": [
    "### Evaluating on Given Test Set"
   ]
  },
  {
   "cell_type": "code",
   "execution_count": 59,
   "metadata": {},
   "outputs": [],
   "source": [
    "model.load_weights(filename)\n",
    "pred_results = model.predict(([inputs_test, queries_test]))"
   ]
  },
  {
   "cell_type": "code",
   "execution_count": 60,
   "metadata": {},
   "outputs": [
    {
     "data": {
      "text/plain": [
       "['Mary',\n",
       " 'got',\n",
       " 'the',\n",
       " 'milk',\n",
       " 'there',\n",
       " '.',\n",
       " 'John',\n",
       " 'moved',\n",
       " 'to',\n",
       " 'the',\n",
       " 'bedroom',\n",
       " '.']"
      ]
     },
     "execution_count": 60,
     "metadata": {},
     "output_type": "execute_result"
    }
   ],
   "source": [
    "test_data[0][0]"
   ]
  },
  {
   "cell_type": "code",
   "execution_count": 61,
   "metadata": {},
   "outputs": [
    {
     "name": "stdout",
     "output_type": "stream",
     "text": [
      "Mary got the milk there . John moved to the bedroom .\n"
     ]
    }
   ],
   "source": [
    "story =' '.join(word for word in test_data[0][0])\n",
    "print(story)"
   ]
  },
  {
   "cell_type": "code",
   "execution_count": 62,
   "metadata": {},
   "outputs": [
    {
     "name": "stdout",
     "output_type": "stream",
     "text": [
      "Is John in the kitchen ?\n"
     ]
    }
   ],
   "source": [
    "query = ' '.join(word for word in test_data[0][1])\n",
    "print(query)"
   ]
  },
  {
   "cell_type": "code",
   "execution_count": 63,
   "metadata": {},
   "outputs": [
    {
     "name": "stdout",
     "output_type": "stream",
     "text": [
      "True Test Answer from Data is: no\n"
     ]
    }
   ],
   "source": [
    "print(\"True Test Answer from Data is:\",test_data[0][2])"
   ]
  },
  {
   "cell_type": "code",
   "execution_count": 64,
   "metadata": {},
   "outputs": [
    {
     "name": "stdout",
     "output_type": "stream",
     "text": [
      "Predicted answer is:  no\n",
      "Probability of certainty was:  0.99999356\n"
     ]
    }
   ],
   "source": [
    "#Generate prediction from model\n",
    "val_max = np.argmax(pred_results[0])\n",
    "\n",
    "for key, val in tokenizer.word_index.items():\n",
    "    if val == val_max:\n",
    "        k = key\n",
    "\n",
    "print(\"Predicted answer is: \", k)\n",
    "print(\"Probability of certainty was: \", pred_results[0][val_max])"
   ]
  },
  {
   "cell_type": "markdown",
   "metadata": {},
   "source": [
    "## \n",
    "more examples from existing vocab"
   ]
  },
  {
   "cell_type": "code",
   "execution_count": 65,
   "metadata": {},
   "outputs": [
    {
     "data": {
      "text/plain": [
       "{'.',\n",
       " '?',\n",
       " 'Daniel',\n",
       " 'Is',\n",
       " 'John',\n",
       " 'Mary',\n",
       " 'Sandra',\n",
       " 'apple',\n",
       " 'back',\n",
       " 'bathroom',\n",
       " 'bedroom',\n",
       " 'discarded',\n",
       " 'down',\n",
       " 'dropped',\n",
       " 'football',\n",
       " 'garden',\n",
       " 'got',\n",
       " 'grabbed',\n",
       " 'hallway',\n",
       " 'in',\n",
       " 'journeyed',\n",
       " 'kitchen',\n",
       " 'left',\n",
       " 'milk',\n",
       " 'moved',\n",
       " 'no',\n",
       " 'office',\n",
       " 'picked',\n",
       " 'put',\n",
       " 'the',\n",
       " 'there',\n",
       " 'to',\n",
       " 'took',\n",
       " 'travelled',\n",
       " 'up',\n",
       " 'went',\n",
       " 'yes'}"
      ]
     },
     "execution_count": 65,
     "metadata": {},
     "output_type": "execute_result"
    }
   ],
   "source": [
    "vocab"
   ]
  },
  {
   "cell_type": "code",
   "execution_count": 66,
   "metadata": {},
   "outputs": [
    {
     "data": {
      "text/plain": [
       "['John',\n",
       " 'left',\n",
       " 'the',\n",
       " 'kitchen',\n",
       " '.',\n",
       " 'Sandra',\n",
       " 'dropped',\n",
       " 'the',\n",
       " 'football',\n",
       " 'in',\n",
       " 'the',\n",
       " 'garden',\n",
       " '.']"
      ]
     },
     "execution_count": 66,
     "metadata": {},
     "output_type": "execute_result"
    }
   ],
   "source": [
    "# Note the whitespace of the periods\n",
    "my_story = \"John left the kitchen . Sandra dropped the football in the garden .\"\n",
    "my_story.split()"
   ]
  },
  {
   "cell_type": "code",
   "execution_count": 67,
   "metadata": {},
   "outputs": [],
   "source": [
    "my_question = \"Is the football in the garden ?\""
   ]
  },
  {
   "cell_type": "code",
   "execution_count": 68,
   "metadata": {},
   "outputs": [
    {
     "data": {
      "text/plain": [
       "['Is', 'the', 'football', 'in', 'the', 'garden', '?']"
      ]
     },
     "execution_count": 68,
     "metadata": {},
     "output_type": "execute_result"
    }
   ],
   "source": [
    "my_question.split()"
   ]
  },
  {
   "cell_type": "code",
   "execution_count": 69,
   "metadata": {},
   "outputs": [],
   "source": [
    "mydata = [(my_story.split(),my_question.split(),'yes')]"
   ]
  },
  {
   "cell_type": "code",
   "execution_count": 70,
   "metadata": {},
   "outputs": [],
   "source": [
    "my_story,my_ques,my_ans = vectorize_stories(mydata)"
   ]
  },
  {
   "cell_type": "code",
   "execution_count": 71,
   "metadata": {},
   "outputs": [],
   "source": [
    "pred_results = model.predict(([ my_story, my_ques]))"
   ]
  },
  {
   "cell_type": "code",
   "execution_count": 72,
   "metadata": {},
   "outputs": [
    {
     "name": "stdout",
     "output_type": "stream",
     "text": [
      "Predicted answer is:  yes\n",
      "Probability of certainty was:  0.99999905\n"
     ]
    }
   ],
   "source": [
    "#Generate prediction from model\n",
    "val_max = np.argmax(pred_results[0])\n",
    "\n",
    "for key, val in tokenizer.word_index.items():\n",
    "    if val == val_max:\n",
    "        k = key\n",
    "\n",
    "print(\"Predicted answer is: \", k)\n",
    "print(\"Probability of certainty was: \", pred_results[0][val_max])"
   ]
  }
 ],
 "metadata": {
  "kernelspec": {
   "display_name": "Python 3",
   "language": "python",
   "name": "python3"
  },
  "language_info": {
   "codemirror_mode": {
    "name": "ipython",
    "version": 3
   },
   "file_extension": ".py",
   "mimetype": "text/x-python",
   "name": "python",
   "nbconvert_exporter": "python",
   "pygments_lexer": "ipython3",
   "version": "3.6.4"
  }
 },
 "nbformat": 4,
 "nbformat_minor": 2
}
